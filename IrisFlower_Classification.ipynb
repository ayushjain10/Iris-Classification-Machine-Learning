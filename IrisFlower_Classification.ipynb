{
 "cells": [
  {
   "cell_type": "code",
   "execution_count": 81,
   "metadata": {},
   "outputs": [
    {
     "name": "stdout",
     "output_type": "stream",
     "text": [
      "Sys Version:3.7.0 (default, Jun 28 2018, 07:39:16) \n",
      "[Clang 4.0.1 (tags/RELEASE_401/final)]\n",
      "SciPy Version:1.1.0\n",
      "MatPlotLib Version:2.2.3\n",
      "Numpy Version:1.15.1\n",
      "Pandas Version:0.23.4\n",
      "SkLearn Version:0.19.2\n"
     ]
    }
   ],
   "source": [
    "#My First Machine Learning project\n",
    "\n",
    "#Solving classification problem using Iris Dataset\n",
    "\n",
    "#Supervised Learning(Class Label given in the dataset)\n",
    "\n",
    "#The problem set has three flowers to classify with 4 attributes\n",
    "\n",
    "#Total data present : 150 rows with classified values\n",
    "\n",
    "#The goal of the problem is to identify the flower type based on the attribute values given\n",
    "\n",
    "#How to achieve the goal?\n",
    "\n",
    "#Using several Machine Learning Algorithms and selecting the one with the highest accuracy.\n",
    "\n",
    "#System Level Library\n",
    "import sys\n",
    "print(\"Sys Version:\"+sys.version)\n",
    "\n",
    "#Library to perform scientific computations\n",
    "import scipy\n",
    "print(\"SciPy Version:\"+scipy.__version__)\n",
    "\n",
    "#Library for plotting graphs (For Visualization)\n",
    "import matplotlib\n",
    "print(\"MatPlotLib Version:\"+matplotlib.__version__)\n",
    "\n",
    "#Library for array/vector operations \n",
    "import numpy \n",
    "print(\"Numpy Version:\"+numpy.__version__)\n",
    "\n",
    "#Library for analyzing tabular data\n",
    "import pandas\n",
    "print(\"Pandas Version:\"+pandas.__version__)\n",
    "\n",
    "#Library for Machine learning Algorithm\n",
    "import sklearn\n",
    "print(\"SkLearn Version:\"+sklearn.__version__)\n"
   ]
  },
  {
   "cell_type": "code",
   "execution_count": 82,
   "metadata": {},
   "outputs": [],
   "source": [
    "#Importing Necessary Libraries which will be used\n",
    "\n",
    "from pandas.plotting import scatter_matrix\n",
    "\n",
    "from matplotlib import pyplot as plt\n",
    "\n",
    "from sklearn import model_selection\n",
    "\n",
    "from sklearn.metrics import classification_report\n",
    "\n",
    "from sklearn.metrics import confusion_matrix\n",
    "\n",
    "from sklearn.metrics import accuracy_score\n",
    "\n",
    "from sklearn.linear_model import LogisticRegression\n",
    "\n",
    "from sklearn.tree import DecisionTreeClassifier\n",
    "\n",
    "from sklearn.neighbors import KNeighborsClassifier\n",
    "\n",
    "from sklearn.discriminant_analysis import LinearDiscriminantAnalysis\n",
    "\n",
    "from sklearn.naive_bayes import GaussianNB\n",
    "\n",
    "from sklearn.svm import SVC"
   ]
  },
  {
   "cell_type": "code",
   "execution_count": 83,
   "metadata": {},
   "outputs": [],
   "source": [
    "#Loading the dataset consisting of 150 rows and 4 attributes\n",
    "\n",
    "#Iris dataset url\n",
    "url = \"https://raw.githubusercontent.com/jbrownlee/Datasets/master/iris.csv\"\n",
    "\n",
    "#Defining header for the dataset(last attribute is the class variable)\n",
    "colname = ['sepal-length', 'sepal-width', 'petal-length', 'petal-width', 'class']\n",
    "\n",
    "#Using pandas to read the file\n",
    "iris = pandas.read_csv(url, names = colname)"
   ]
  },
  {
   "cell_type": "code",
   "execution_count": 84,
   "metadata": {},
   "outputs": [
    {
     "name": "stdout",
     "output_type": "stream",
     "text": [
      "Total entries:750\n",
      "Dimension:2\n",
      "Shape:(150, 5)\n",
      "   sepal-length  sepal-width  petal-length  petal-width        class\n",
      "0           5.1          3.5           1.4          0.2  Iris-setosa\n",
      "1           4.9          3.0           1.4          0.2  Iris-setosa\n",
      "2           4.7          3.2           1.3          0.2  Iris-setosa\n",
      "3           4.6          3.1           1.5          0.2  Iris-setosa\n",
      "4           5.0          3.6           1.4          0.2  Iris-setosa\n",
      "5           5.4          3.9           1.7          0.4  Iris-setosa\n",
      "6           4.6          3.4           1.4          0.3  Iris-setosa\n",
      "7           5.0          3.4           1.5          0.2  Iris-setosa\n",
      "8           4.4          2.9           1.4          0.2  Iris-setosa\n",
      "9           4.9          3.1           1.5          0.1  Iris-setosa\n"
     ]
    },
    {
     "data": {
      "text/plain": [
       "class\n",
       "Iris-setosa        50\n",
       "Iris-versicolor    50\n",
       "Iris-virginica     50\n",
       "dtype: int64"
      ]
     },
     "execution_count": 84,
     "metadata": {},
     "output_type": "execute_result"
    }
   ],
   "source": [
    "#Analyze the structure of the dataset\n",
    "\n",
    "print('Total entries:'+str(iris.size))\n",
    "\n",
    "print('Dimension:'+str(iris.ndim))\n",
    "\n",
    "print('Shape:'+str(iris.shape))\n",
    "\n",
    "#Let's take a look at the dataset \n",
    "\n",
    "#Prints first 10 entries\n",
    "print(iris.head(10))\n",
    "\n",
    "#Get the count of number of entries for each flower\n",
    "iris.groupby('class').size()\n",
    "#Here we see that the dataset is equally divided, there are 50 entries for each flower"
   ]
  },
  {
   "cell_type": "code",
   "execution_count": 85,
   "metadata": {},
   "outputs": [
    {
     "data": {
      "text/plain": [
       "array([[<matplotlib.axes._subplots.AxesSubplot object at 0x1a2708e240>,\n",
       "        <matplotlib.axes._subplots.AxesSubplot object at 0x1a278c6a58>,\n",
       "        <matplotlib.axes._subplots.AxesSubplot object at 0x1a27814278>,\n",
       "        <matplotlib.axes._subplots.AxesSubplot object at 0x1a2783a908>],\n",
       "       [<matplotlib.axes._subplots.AxesSubplot object at 0x111181f98>,\n",
       "        <matplotlib.axes._subplots.AxesSubplot object at 0x111181fd0>,\n",
       "        <matplotlib.axes._subplots.AxesSubplot object at 0x1104b6cf8>,\n",
       "        <matplotlib.axes._subplots.AxesSubplot object at 0x1112053c8>],\n",
       "       [<matplotlib.axes._subplots.AxesSubplot object at 0x1a27112a58>,\n",
       "        <matplotlib.axes._subplots.AxesSubplot object at 0x1a27145128>,\n",
       "        <matplotlib.axes._subplots.AxesSubplot object at 0x1a2716b7b8>,\n",
       "        <matplotlib.axes._subplots.AxesSubplot object at 0x1a27193e48>],\n",
       "       [<matplotlib.axes._subplots.AxesSubplot object at 0x1a271c5518>,\n",
       "        <matplotlib.axes._subplots.AxesSubplot object at 0x1a271edba8>,\n",
       "        <matplotlib.axes._subplots.AxesSubplot object at 0x1a2725e278>,\n",
       "        <matplotlib.axes._subplots.AxesSubplot object at 0x1a27285908>]],\n",
       "      dtype=object)"
      ]
     },
     "execution_count": 85,
     "metadata": {},
     "output_type": "execute_result"
    },
    {
     "data": {
      "image/png": "[encoded data removed]",
      "text/plain": [
       "<Figure size 432x288 with 4 Axes>"
      ]
     },
     "metadata": {
      "needs_background": "light"
     },
     "output_type": "display_data"
    },
    {
     "data": {
      "image/png": "[encoded data removed]",
      "text/plain": [
       "<Figure size 432x288 with 16 Axes>"
      ]
     },
     "metadata": {
      "needs_background": "light"
     },
     "output_type": "display_data"
    }
   ],
   "source": [
    "#Visualise the dataset by plotting univariate and multivariate plots\n",
    "\n",
    "#Plotting histogram for each variable\n",
    "iris.plot(kind = 'hist', subplots = True, layout = (2,2), sharex = False, sharey = False)\n",
    "\n",
    "#Plotting pair-wise scatter plots to get relationship between each variables\n",
    "#Using pandas library scatter_matrix\n",
    "scatter_matrix(iris)\n",
    "#We see that there is high corelation among some attributes.\n",
    "#Let's take a look at petal-length vs petal-width plots. There is almost a linear relationship among these variables.\n",
    "#Scatter plot is useful to know the relationship among each feature attributes."
   ]
  },
  {
   "cell_type": "code",
   "execution_count": 86,
   "metadata": {
    "scrolled": true
   },
   "outputs": [
    {
     "name": "stdout",
     "output_type": "stream",
     "text": [
      "X training data:[[6.6 2.9 4.6 1.3]\n",
      " [6.2 2.9 4.3 1.3]\n",
      " [7.2 3.0 5.8 1.6]\n",
      " [5.8 2.8 5.1 2.4]\n",
      " [6.3 2.5 5.0 1.9]\n",
      " [4.6 3.2 1.4 0.2]\n",
      " [6.7 3.3 5.7 2.1]\n",
      " [6.9 3.2 5.7 2.3]\n",
      " [7.7 2.6 6.9 2.3]\n",
      " [6.9 3.1 5.1 2.3]\n",
      " [5.0 3.4 1.6 0.4]\n",
      " [5.0 3.5 1.6 0.6]\n",
      " [5.2 2.7 3.9 1.4]\n",
      " [4.5 2.3 1.3 0.3]\n",
      " [6.3 3.3 4.7 1.6]\n",
      " [5.2 4.1 1.5 0.1]\n",
      " [6.9 3.1 4.9 1.5]\n",
      " [5.9 3.2 4.8 1.8]\n",
      " [5.6 2.8 4.9 2.0]\n",
      " [6.7 3.3 5.7 2.5]\n",
      " [6.2 2.2 4.5 1.5]\n",
      " [7.2 3.6 6.1 2.5]\n",
      " [5.5 2.4 3.7 1.0]\n",
      " [6.0 2.9 4.5 1.5]\n",
      " [6.4 3.2 4.5 1.5]\n",
      " [5.8 4.0 1.2 0.2]\n",
      " [5.3 3.7 1.5 0.2]\n",
      " [6.1 2.9 4.7 1.4]\n",
      " [5.4 3.4 1.7 0.2]\n",
      " [6.4 3.1 5.5 1.8]\n",
      " [4.7 3.2 1.6 0.2]\n",
      " [4.6 3.1 1.5 0.2]\n",
      " [4.9 2.5 4.5 1.7]\n",
      " [5.1 2.5 3.0 1.1]\n",
      " [6.7 3.1 5.6 2.4]\n",
      " [4.9 3.1 1.5 0.1]\n",
      " [6.9 3.1 5.4 2.1]\n",
      " [4.8 3.0 1.4 0.3]\n",
      " [5.8 2.7 3.9 1.2]\n",
      " [6.0 2.7 5.1 1.6]\n",
      " [4.4 3.2 1.3 0.2]\n",
      " [6.8 3.2 5.9 2.3]\n",
      " [7.9 3.8 6.4 2.0]\n",
      " [6.5 3.0 5.5 1.8]\n",
      " [7.6 3.0 6.6 2.1]\n",
      " [6.3 2.8 5.1 1.5]\n",
      " [4.6 3.4 1.4 0.3]\n",
      " [5.7 2.6 3.5 1.0]\n",
      " [6.7 2.5 5.8 1.8]\n",
      " [5.7 2.8 4.1 1.3]\n",
      " [4.9 3.1 1.5 0.1]\n",
      " [6.4 2.8 5.6 2.1]\n",
      " [7.0 3.2 4.7 1.4]\n",
      " [5.7 2.9 4.2 1.3]\n",
      " [5.0 3.6 1.4 0.2]\n",
      " [5.4 3.9 1.7 0.4]\n",
      " [5.1 3.8 1.9 0.4]\n",
      " [5.4 3.0 4.5 1.5]\n",
      " [7.4 2.8 6.1 1.9]\n",
      " [6.3 2.9 5.6 1.8]\n",
      " [6.6 3.0 4.4 1.4]\n",
      " [5.0 3.4 1.5 0.2]\n",
      " [5.1 3.8 1.6 0.2]\n",
      " [5.1 3.5 1.4 0.3]\n",
      " [6.5 3.0 5.8 2.2]\n",
      " [5.8 2.7 5.1 1.9]\n",
      " [6.1 2.8 4.0 1.3]\n",
      " [5.5 2.4 3.8 1.1]\n",
      " [6.5 3.2 5.1 2.0]\n",
      " [6.5 3.0 5.2 2.0]\n",
      " [5.9 3.0 5.1 1.8]\n",
      " [6.1 2.6 5.6 1.4]\n",
      " [6.4 2.9 4.3 1.3]\n",
      " [5.2 3.4 1.4 0.2]\n",
      " [4.8 3.4 1.6 0.2]\n",
      " [5.6 2.7 4.2 1.3]\n",
      " [5.1 3.3 1.7 0.5]\n",
      " [4.6 3.6 1.0 0.2]\n",
      " [6.1 3.0 4.9 1.8]\n",
      " [5.0 2.3 3.3 1.0]\n",
      " [5.7 3.8 1.7 0.3]\n",
      " [5.2 3.5 1.5 0.2]\n",
      " [5.5 3.5 1.3 0.2]\n",
      " [4.9 2.4 3.3 1.0]\n",
      " [5.4 3.4 1.5 0.4]\n",
      " [6.7 3.1 4.4 1.4]\n",
      " [4.8 3.0 1.4 0.1]\n",
      " [5.5 2.5 4.0 1.3]\n",
      " [6.0 2.2 5.0 1.5]\n",
      " [4.8 3.1 1.6 0.2]\n",
      " [6.7 3.1 4.7 1.5]\n",
      " [5.8 2.6 4.0 1.2]\n",
      " [6.2 3.4 5.4 2.3]\n",
      " [5.0 3.0 1.6 0.2]\n",
      " [6.0 3.0 4.8 1.8]\n",
      " [4.3 3.0 1.1 0.1]\n",
      " [5.6 2.5 3.9 1.1]\n",
      " [6.7 3.0 5.0 1.7]\n",
      " [7.7 3.0 6.1 2.3]\n",
      " [6.3 3.4 5.6 2.4]\n",
      " [5.5 4.2 1.4 0.2]\n",
      " [6.0 2.2 4.0 1.0]\n",
      " [7.7 2.8 6.7 2.0]\n",
      " [7.3 2.9 6.3 1.8]\n",
      " [5.6 3.0 4.1 1.3]\n",
      " [6.5 2.8 4.6 1.5]\n",
      " [6.3 3.3 6.0 2.5]\n",
      " [5.4 3.9 1.3 0.4]\n",
      " [6.4 3.2 5.3 2.3]\n",
      " [5.0 3.5 1.3 0.3]\n",
      " [5.1 3.5 1.4 0.2]\n",
      " [6.1 2.8 4.7 1.2]\n",
      " [4.4 2.9 1.4 0.2]\n",
      " [6.7 3.0 5.2 2.3]\n",
      " [6.3 2.7 4.9 1.8]\n",
      " [5.7 2.5 5.0 2.0]\n",
      " [5.6 2.9 3.6 1.3]\n",
      " [5.7 4.4 1.5 0.4]\n",
      " [7.2 3.2 6.0 1.8]\n",
      " [4.9 3.1 1.5 0.1]]\n",
      "X test data:[[6.3 2.3 4.4 1.3]\n",
      " [6.4 2.7 5.3 1.9]\n",
      " [5.4 3.7 1.5 0.2]\n",
      " [6.1 3.0 4.6 1.4]\n",
      " [5.0 3.3 1.4 0.2]\n",
      " [5.0 2.0 3.5 1.0]\n",
      " [6.3 2.5 4.9 1.5]\n",
      " [5.8 2.7 4.1 1.0]\n",
      " [5.1 3.4 1.5 0.2]\n",
      " [5.7 2.8 4.5 1.3]\n",
      " [5.6 3.0 4.5 1.5]\n",
      " [5.8 2.7 5.1 1.9]\n",
      " [5.5 2.3 4.0 1.3]\n",
      " [4.9 3.0 1.4 0.2]\n",
      " [5.1 3.8 1.5 0.3]\n",
      " [6.8 3.0 5.5 2.1]\n",
      " [6.0 3.4 4.5 1.6]\n",
      " [4.4 3.0 1.3 0.2]\n",
      " [5.1 3.7 1.5 0.4]\n",
      " [5.0 3.2 1.2 0.2]\n",
      " [7.1 3.0 5.9 2.1]\n",
      " [6.4 2.8 5.6 2.2]\n",
      " [6.2 2.8 4.8 1.8]\n",
      " [4.8 3.4 1.9 0.2]\n",
      " [5.9 3.0 4.2 1.5]\n",
      " [4.7 3.2 1.3 0.2]\n",
      " [5.7 3.0 4.2 1.2]\n",
      " [5.5 2.6 4.4 1.2]\n",
      " [6.8 2.8 4.8 1.4]\n",
      " [7.7 3.8 6.7 2.2]]\n",
      "Y training data:['Iris-versicolor' 'Iris-versicolor' 'Iris-virginica' 'Iris-virginica'\n",
      " 'Iris-virginica' 'Iris-setosa' 'Iris-virginica' 'Iris-virginica'\n",
      " 'Iris-virginica' 'Iris-virginica' 'Iris-setosa' 'Iris-setosa'\n",
      " 'Iris-versicolor' 'Iris-setosa' 'Iris-versicolor' 'Iris-setosa'\n",
      " 'Iris-versicolor' 'Iris-versicolor' 'Iris-virginica' 'Iris-virginica'\n",
      " 'Iris-versicolor' 'Iris-virginica' 'Iris-versicolor' 'Iris-versicolor'\n",
      " 'Iris-versicolor' 'Iris-setosa' 'Iris-setosa' 'Iris-versicolor'\n",
      " 'Iris-setosa' 'Iris-virginica' 'Iris-setosa' 'Iris-setosa'\n",
      " 'Iris-virginica' 'Iris-versicolor' 'Iris-virginica' 'Iris-setosa'\n",
      " 'Iris-virginica' 'Iris-setosa' 'Iris-versicolor' 'Iris-versicolor'\n",
      " 'Iris-setosa' 'Iris-virginica' 'Iris-virginica' 'Iris-virginica'\n",
      " 'Iris-virginica' 'Iris-virginica' 'Iris-setosa' 'Iris-versicolor'\n",
      " 'Iris-virginica' 'Iris-versicolor' 'Iris-setosa' 'Iris-virginica'\n",
      " 'Iris-versicolor' 'Iris-versicolor' 'Iris-setosa' 'Iris-setosa'\n",
      " 'Iris-setosa' 'Iris-versicolor' 'Iris-virginica' 'Iris-virginica'\n",
      " 'Iris-versicolor' 'Iris-setosa' 'Iris-setosa' 'Iris-setosa'\n",
      " 'Iris-virginica' 'Iris-virginica' 'Iris-versicolor' 'Iris-versicolor'\n",
      " 'Iris-virginica' 'Iris-virginica' 'Iris-virginica' 'Iris-virginica'\n",
      " 'Iris-versicolor' 'Iris-setosa' 'Iris-setosa' 'Iris-versicolor'\n",
      " 'Iris-setosa' 'Iris-setosa' 'Iris-virginica' 'Iris-versicolor'\n",
      " 'Iris-setosa' 'Iris-setosa' 'Iris-setosa' 'Iris-versicolor' 'Iris-setosa'\n",
      " 'Iris-versicolor' 'Iris-setosa' 'Iris-versicolor' 'Iris-virginica'\n",
      " 'Iris-setosa' 'Iris-versicolor' 'Iris-versicolor' 'Iris-virginica'\n",
      " 'Iris-setosa' 'Iris-virginica' 'Iris-setosa' 'Iris-versicolor'\n",
      " 'Iris-versicolor' 'Iris-virginica' 'Iris-virginica' 'Iris-setosa'\n",
      " 'Iris-versicolor' 'Iris-virginica' 'Iris-virginica' 'Iris-versicolor'\n",
      " 'Iris-versicolor' 'Iris-virginica' 'Iris-setosa' 'Iris-virginica'\n",
      " 'Iris-setosa' 'Iris-setosa' 'Iris-versicolor' 'Iris-setosa'\n",
      " 'Iris-virginica' 'Iris-virginica' 'Iris-virginica' 'Iris-versicolor'\n",
      " 'Iris-setosa' 'Iris-virginica' 'Iris-setosa']\n",
      "Y test data:['Iris-versicolor' 'Iris-virginica' 'Iris-setosa' 'Iris-versicolor'\n",
      " 'Iris-setosa' 'Iris-versicolor' 'Iris-versicolor' 'Iris-versicolor'\n",
      " 'Iris-setosa' 'Iris-versicolor' 'Iris-versicolor' 'Iris-virginica'\n",
      " 'Iris-versicolor' 'Iris-setosa' 'Iris-setosa' 'Iris-virginica'\n",
      " 'Iris-versicolor' 'Iris-setosa' 'Iris-setosa' 'Iris-setosa'\n",
      " 'Iris-virginica' 'Iris-virginica' 'Iris-virginica' 'Iris-setosa'\n",
      " 'Iris-versicolor' 'Iris-setosa' 'Iris-versicolor' 'Iris-versicolor'\n",
      " 'Iris-versicolor' 'Iris-virginica']\n"
     ]
    }
   ],
   "source": [
    "#Split the dataset to training and test data\n",
    "#Sampling the data\n",
    "\n",
    "full_data = iris.values\n",
    "\n",
    "#Get values for all entries of features\n",
    "X = full_data[:,0:4]\n",
    "\n",
    "#Get values for all class for all rows\n",
    "Y = full_data[:,4]\n",
    "\n",
    "#Using the train_test_split() to create both training and test data.\n",
    "#Training data is used to create the model\n",
    "#Test data is used for validation of the model which was created using training data\n",
    "\n",
    "#Let's split the full_data in 80-20, where 80% is training data & test_data as 20%\n",
    "test_data_size = 0.20\n",
    "\n",
    "train_test_list = model_selection.train_test_split(X, Y, test_size = test_data_size, random_state = 10)\n",
    "\n",
    "X_train_data = train_test_list[0]\n",
    "\n",
    "X_test_data = train_test_list[1]\n",
    "\n",
    "Y_train_data = train_test_list[2]\n",
    "\n",
    "Y_test_data = train_test_list[3]\n",
    "\n",
    "#Let's print the training and test data\n",
    "print('X training data:'+ str(X_train_data))\n",
    "\n",
    "print('X test data:'+ str(X_test_data))\n",
    "\n",
    "print('Y training data:'+ str(Y_train_data))\n",
    "\n",
    "print('Y test data:'+ str(Y_test_data))\n",
    "\n",
    "#We now have X_train_data & Y_train_data to create the model."
   ]
  },
  {
   "cell_type": "code",
   "execution_count": 87,
   "metadata": {},
   "outputs": [
    {
     "name": "stdout",
     "output_type": "stream",
     "text": [
      "Accuracy using Logistic Regression:0.9416666666666667\n"
     ]
    }
   ],
   "source": [
    "#Perform Re-Sampling of the Training Data using K-fold Cross Validation \n",
    "#K-fold cross validation is much better than LOOCV and Validation set approach.\n",
    "\n",
    "#Let's take K as 10, the training data will be split in 1 & K-1 folds i.e. 1 & 9 folds.\n",
    "#The model is constructed using 9 folds of data and then predict class variable using 1 fold. \n",
    "kfold = model_selection.KFold(n_splits = 10)\n",
    "\n",
    "#To construct the model, let's use the Logistic Regression algorithm to measure it's accuracy.\n",
    "model_lr = LogisticRegression()\n",
    "result_lr = model_selection.cross_val_score(model_lr, X_train_data, Y_train_data, cv = kfold, scoring = 'accuracy')\n",
    "\n",
    "print('Accuracy using Logistic Regression:'+ str(result_lr.mean()))"
   ]
  },
  {
   "cell_type": "code",
   "execution_count": 74,
   "metadata": {},
   "outputs": [
    {
     "name": "stdout",
     "output_type": "stream",
     "text": [
      "Accuracy using KNN:0.9583333333333334\n"
     ]
    }
   ],
   "source": [
    "#We have seen the accuracy of our model using Logistic Regression\n",
    "#Let's measure the accuracy of the model using K-Nearest Neighbors\n",
    "\n",
    "model_knn = KNeighborsClassifier()\n",
    "result_knn = model_selection.cross_val_score(model_knn, X_train_data, Y_train_data, cv = kfold, scoring = 'accuracy')\n",
    "\n",
    "print('Accuracy using KNN:'+ str(result_knn.mean()))"
   ]
  },
  {
   "cell_type": "code",
   "execution_count": 75,
   "metadata": {},
   "outputs": [
    {
     "name": "stdout",
     "output_type": "stream",
     "text": [
      "Accuracy using Navie Bayes:0.925\n"
     ]
    }
   ],
   "source": [
    "#Let's measure the accuracy of the model using Naive Baye's\n",
    "\n",
    "model_nb = GaussianNB()\n",
    "result_nb = model_selection.cross_val_score(model_nb, X_train_data, Y_train_data, cv = kfold, scoring = 'accuracy')\n",
    "\n",
    "print('Accuracy using Navie Bayes:'+ str(result_nb.mean()))"
   ]
  },
  {
   "cell_type": "code",
   "execution_count": 78,
   "metadata": {
    "scrolled": true
   },
   "outputs": [
    {
     "name": "stdout",
     "output_type": "stream",
     "text": [
      "Accuracy using Support Vector Machine:0.975\n"
     ]
    }
   ],
   "source": [
    "#Let's measure the accuracy of the model using Support Vector Machines\n",
    "\n",
    "model_svm = SVC()\n",
    "result_svm = model_selection.cross_val_score(model_svm, X_train_data, Y_train_data, cv = kfold, scoring = 'accuracy')\n",
    "\n",
    "print('Accuracy using Support Vector Machine:'+ str(result_svm.mean()))"
   ]
  },
  {
   "cell_type": "code",
   "execution_count": null,
   "metadata": {},
   "outputs": [],
   "source": [
    "#We see that we get the highest accuracy using Support Vector Machine.\n",
    "\n",
    "#We have analyzed the following algorithms to predict the accuracy:\n",
    "\n",
    "#1. Logistic Regression\n",
    "#2. K-Nearest Neighbor\n",
    "#3. Naive Bayes\n",
    "#4. Support Vector Machines"
   ]
  },
  {
   "cell_type": "code",
   "execution_count": 80,
   "metadata": {},
   "outputs": [
    {
     "name": "stdout",
     "output_type": "stream",
     "text": [
      "Accuracy on test data using SVM:1.0\n",
      "Confusion Matrix:\n",
      "[[10  0  0]\n",
      " [ 0 13  0]\n",
      " [ 0  0  7]]\n",
      "Classification Report:\n",
      "                 precision    recall  f1-score   support\n",
      "\n",
      "    Iris-setosa       1.00      1.00      1.00        10\n",
      "Iris-versicolor       1.00      1.00      1.00        13\n",
      " Iris-virginica       1.00      1.00      1.00         7\n",
      "\n",
      "    avg / total       1.00      1.00      1.00        30\n",
      "\n"
     ]
    }
   ],
   "source": [
    "#Now let's construct the model using SVM and make the prediction.\n",
    "\n",
    "#Fit the model using training data\n",
    "model_svm.fit(X_train_data, Y_train_data)\n",
    "#Now we have constructed the model using the training data by SVM algorithm as it's accuracy is much better.\n",
    "\n",
    "#Now make the prediction of X_test_data\n",
    "prediction_svm = model_svm.predict(X_test_data)\n",
    "\n",
    "#Compare the predictions of X_test_data with Y_test_data\n",
    "#Using accuracy_score from Sklearn library to predict the accuracy\n",
    "accuracy_svm = accuracy_score(Y_test_data, prediction_svm)\n",
    "\n",
    "#Using confusion_matrix from Sklearn library to get the confusion matrix\n",
    "matrix_svm = confusion_matrix(Y_test_data, prediction_svm)\n",
    "\n",
    "#Using classification_report from Sklearn library to get the classification report\n",
    "report_svm = classification_report(Y_test_data, prediction_svm)\n",
    "\n",
    "print('Accuracy on test data using SVM:'+ str(accuracy_svm))\n",
    "\n",
    "print('Confusion Matrix:\\n'+ str(matrix_svm))\n",
    "\n",
    "print('Classification Report:\\n'+ str(report_svm))"
   ]
  },
  {
   "cell_type": "code",
   "execution_count": 88,
   "metadata": {},
   "outputs": [],
   "source": [
    "#We see that we have got 100% accuracy using SVM. All the flowers are correctly classified.\n",
    "\n",
    "#The test data had 30 entries. There were total of 10 Iris-setosa, 13 Iris-versicolor and 7 Iris-virginica flower.\n",
    "\n",
    "#All these 30 flowers have been correctly classified respectively."
   ]
  }
 ],
 "metadata": {
  "kernelspec": {
   "display_name": "Python 3",
   "language": "python",
   "name": "python3"
  },
  "language_info": {
   "codemirror_mode": {
    "name": "ipython",
    "version": 3
   },
   "file_extension": ".py",
   "mimetype": "text/x-python",
   "name": "python",
   "nbconvert_exporter": "python",
   "pygments_lexer": "ipython3",
   "version": "3.7.0"
  }
 },
 "nbformat": 4,
 "nbformat_minor": 2
}
